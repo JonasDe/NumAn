{
 "cells": [
  {
   "cell_type": "code",
   "execution_count": 2,
   "metadata": {
    "collapsed": false
   },
   "outputs": [],
   "source": [
    "%matplotlib inline\n",
    "import numpy as np\n",
    "import matplotlib.pyplot as plt\n",
    "from IPython.display import display, Math, Latex\n"
   ]
  },
  {
   "cell_type": "markdown",
   "metadata": {},
   "source": [
    "# Task 1\n",
    "$$ T_{office} = 22 + 0.5t $$\n",
    "$$ \\frac{dT}{dt} + kT(t) = k(T_{office}) $$\n",
    "$$ (e^{kt}  T(t))'  = e^{kt}k(T_{office})$$\n",
    "$$ e^{kt}T(t) = \\int e^{kt}k(22 + 0.5t) dt $$\n",
    "$$ e^{kt}T(t) = 22e^{kt} + \\frac{1}{2}te^{kt}- \\frac{1}{2k} e^{kt} + C $$ \n",
    "$$ T(t) = 22 + \\frac{1}{2}t - \\frac{1}{2k} + Ce^{-kt} $$"
   ]
  },
  {
   "cell_type": "code",
   "execution_count": 3,
   "metadata": {
    "collapsed": false
   },
   "outputs": [],
   "source": [
    "def bisectionMethod(function,a, b, nMax, tol=1e-12):\n",
    "    n = 0\n",
    "    while (b-a)/2 > tol and n < nMax:\n",
    "        n+=1\n",
    "        c = (a+b)/2\n",
    "        if function(c) *function(a) > 0 :\n",
    "            a=c;\n",
    "        elif function(c) * function(b) > 0 :\n",
    "            b=c;\n",
    "        else: \n",
    "            break\n",
    "        \n",
    "    \n",
    "    possible_err = (b-a)/2\n",
    "    res = function(c)\n",
    "    print(\"Residual: \" + res)\n",
    "    print(\"Possible error: \" + possible_err)\n",
    "    print(\"Value of k: \" + c)\n",
    "\n"
   ]
  },
  {
   "cell_type": "code",
   "execution_count": 4,
   "metadata": {
    "collapsed": false
   },
   "outputs": [],
   "source": [
    "f = lambda k:7+1/(2*k) -(10+1/(2*k))*np.e**-k"
   ]
  },
  {
   "cell_type": "code",
   "execution_count": 5,
   "metadata": {
    "collapsed": false,
    "scrolled": true
   },
   "outputs": [
    {
     "ename": "TypeError",
     "evalue": "Can't convert 'float' object to str implicitly",
     "output_type": "error",
     "traceback": [
      "\u001b[1;31m---------------------------------------------------------------------------\u001b[0m",
      "\u001b[1;31mTypeError\u001b[0m                                 Traceback (most recent call last)",
      "\u001b[1;32m<ipython-input-5-af3d0031067c>\u001b[0m in \u001b[0;36m<module>\u001b[1;34m()\u001b[0m\n\u001b[1;32m----> 1\u001b[1;33m \u001b[0mfansw\u001b[0m \u001b[1;33m=\u001b[0m \u001b[0mbisectionMethod\u001b[0m\u001b[1;33m(\u001b[0m\u001b[0mf\u001b[0m\u001b[1;33m,\u001b[0m \u001b[1;33m-\u001b[0m\u001b[1;36m5\u001b[0m\u001b[1;33m,\u001b[0m \u001b[1;36m10\u001b[0m\u001b[1;33m,\u001b[0m \u001b[1;36m100\u001b[0m\u001b[1;33m)\u001b[0m\u001b[1;33m\u001b[0m\u001b[0m\n\u001b[0m\u001b[0;32m      2\u001b[0m \u001b[1;33m\u001b[0m\u001b[0m\n\u001b[0;32m      3\u001b[0m \u001b[1;33m\u001b[0m\u001b[0m\n\u001b[0;32m      4\u001b[0m \u001b[0mxs\u001b[0m \u001b[1;33m=\u001b[0m \u001b[0mnp\u001b[0m\u001b[1;33m.\u001b[0m\u001b[0mlinspace\u001b[0m\u001b[1;33m(\u001b[0m\u001b[1;33m-\u001b[0m\u001b[1;36m10\u001b[0m\u001b[1;33m,\u001b[0m\u001b[1;36m10\u001b[0m\u001b[1;33m,\u001b[0m \u001b[1;36m100\u001b[0m\u001b[1;33m)\u001b[0m\u001b[1;33m\u001b[0m\u001b[0m\n\u001b[0;32m      5\u001b[0m \u001b[0mplt\u001b[0m\u001b[1;33m.\u001b[0m\u001b[0mplot\u001b[0m\u001b[1;33m(\u001b[0m\u001b[0mxs\u001b[0m\u001b[1;33m,\u001b[0m\u001b[0mf\u001b[0m\u001b[1;33m(\u001b[0m\u001b[0mxs\u001b[0m\u001b[1;33m)\u001b[0m\u001b[1;33m)\u001b[0m\u001b[1;33m\u001b[0m\u001b[0m\n",
      "\u001b[1;32m<ipython-input-3-c900a6a88437>\u001b[0m in \u001b[0;36mbisectionMethod\u001b[1;34m(function, a, b, nMax, tol)\u001b[0m\n\u001b[0;32m     14\u001b[0m     \u001b[0mpossible_err\u001b[0m \u001b[1;33m=\u001b[0m \u001b[1;33m(\u001b[0m\u001b[0mb\u001b[0m\u001b[1;33m-\u001b[0m\u001b[0ma\u001b[0m\u001b[1;33m)\u001b[0m\u001b[1;33m/\u001b[0m\u001b[1;36m2\u001b[0m\u001b[1;33m\u001b[0m\u001b[0m\n\u001b[0;32m     15\u001b[0m     \u001b[0mres\u001b[0m \u001b[1;33m=\u001b[0m \u001b[0mfunction\u001b[0m\u001b[1;33m(\u001b[0m\u001b[0mc\u001b[0m\u001b[1;33m)\u001b[0m\u001b[1;33m\u001b[0m\u001b[0m\n\u001b[1;32m---> 16\u001b[1;33m     \u001b[0mprint\u001b[0m\u001b[1;33m(\u001b[0m\u001b[1;34m\"Residual: \"\u001b[0m \u001b[1;33m+\u001b[0m \u001b[0mres\u001b[0m\u001b[1;33m)\u001b[0m\u001b[1;33m\u001b[0m\u001b[0m\n\u001b[0m\u001b[0;32m     17\u001b[0m     \u001b[0mprint\u001b[0m\u001b[1;33m(\u001b[0m\u001b[1;34m\"Possible error: \"\u001b[0m \u001b[1;33m+\u001b[0m \u001b[0mpossible_err\u001b[0m\u001b[1;33m)\u001b[0m\u001b[1;33m\u001b[0m\u001b[0m\n\u001b[0;32m     18\u001b[0m     \u001b[0mprint\u001b[0m\u001b[1;33m(\u001b[0m\u001b[1;34m\"Value of k: \"\u001b[0m \u001b[1;33m+\u001b[0m \u001b[0mc\u001b[0m\u001b[1;33m)\u001b[0m\u001b[1;33m\u001b[0m\u001b[0m\n",
      "\u001b[1;31mTypeError\u001b[0m: Can't convert 'float' object to str implicitly"
     ]
    }
   ],
   "source": [
    "fansw = bisectionMethod(f, -5, 10, 100)\n",
    "\n",
    "\n",
    "xs = np.linspace(-10,10, 100)\n",
    "plt.plot(xs,f(xs))"
   ]
  },
  {
   "cell_type": "code",
   "execution_count": 6,
   "metadata": {
    "collapsed": false
   },
   "outputs": [],
   "source": [
    "def bisection(f, a, b, nmax=100, tol=1e-12):\n",
    "    ls = []\n",
    "    while (b-a)/2 > tol and nmax > 0 :\n",
    "        prev = (b-a)/2\n",
    "        c = (a+b)/2\n",
    "        if f(c)*f(a) > 0 :\n",
    "            a = c\n",
    "        elif f(c)*f(b) > 0:\n",
    "            b = c\n",
    "        else: break\n",
    "        \n",
    "        ls.append(c)\n",
    "        nmax -= 1\n",
    "    \n",
    "    err = (b-a)/2\n",
    "    res = f(c)\n",
    "    return (res, err, c, 100-nmax, np.array(ls))\n",
    "    #added return, fix prints outside\n",
    "    print(err)\n",
    "    print(res)\n",
    "    print(c)\n",
    "    print(100-nmax)\n",
    "\n"
   ]
  },
  {
   "cell_type": "code",
   "execution_count": 7,
   "metadata": {
    "collapsed": false
   },
   "outputs": [
    {
     "data": {
      "image/png": "[encoded data removed]",
      "text/plain": [
       "<matplotlib.figure.Figure at 0x7f7453936358>"
      ]
     },
     "metadata": {},
     "output_type": "display_data"
    },
    {
     "data": {
      "text/plain": [
       "(1.0487610779819079e-11,\n",
       " 8.526512829121202e-13,\n",
       " 0.2967030532164472,\n",
       " 43,\n",
       " array([ 2.5       , -1.25      ,  0.625     , -0.3125    ,  0.15625   ,\n",
       "         0.390625  ,  0.2734375 ,  0.33203125,  0.30273438,  0.28808594,\n",
       "         0.29541016,  0.29907227,  0.29724121,  0.29632568,  0.29678345,\n",
       "         0.29655457,  0.29666901,  0.29672623,  0.29669762,  0.29671192,\n",
       "         0.29670477,  0.29670119,  0.29670298,  0.29670388,  0.29670343,\n",
       "         0.2967032 ,  0.29670309,  0.29670304,  0.29670306,  0.29670305,\n",
       "         0.29670306,  0.29670305,  0.29670305,  0.29670305,  0.29670305,\n",
       "         0.29670305,  0.29670305,  0.29670305,  0.29670305,  0.29670305,\n",
       "         0.29670305,  0.29670305,  0.29670305]))"
      ]
     },
     "execution_count": 7,
     "metadata": {},
     "output_type": "execute_result"
    }
   ],
   "source": [
    "f = lambda k: 7+1/(2*k)-(10+1/(2*k))*np.e**(-k)\n",
    "x = np.linspace(-3,3,1000)\n",
    "plt.plot(x, f(x))\n",
    "plt.ylabel(\"f(k)\")\n",
    "plt.xlabel(\"k\")\n",
    "\n",
    "plt.show()\n",
    "bisection(f, -5, 10)"
   ]
  },
  {
   "cell_type": "code",
   "execution_count": 79,
   "metadata": {
    "collapsed": false
   },
   "outputs": [],
   "source": [
    "def fixedpoint(f, x, nmax=100, tol=1e-12):\n",
    "    ls = []\n",
    "    while np.abs(f(x)-x) > tol and nmax > 0:\n",
    "        x = f(x)\n",
    "        nmax -= 1     \n",
    "        ls.append(x)\n",
    "    print(\"k = \", x)\n",
    "    print(\"Iterations = \", 100 - nmax)\n",
    "    res = f(x)\n",
    "    return (x, res , 100 - nmax, np.array(ls))"
   ]
  },
  {
   "cell_type": "code",
   "execution_count": 9,
   "metadata": {
    "collapsed": false
   },
   "outputs": [
    {
     "data": {
      "image/png": "[encoded data removed]",
      "text/plain": [
       "<matplotlib.figure.Figure at 0x7f745380c048>"
      ]
     },
     "metadata": {},
     "output_type": "display_data"
    },
    {
     "name": "stdout",
     "output_type": "stream",
     "text": [
      "k =  0.29670305321729984\n",
      "Iterations =  68\n"
     ]
    },
    {
     "data": {
      "text/plain": [
       "(0.29670305321729984, 68)"
      ]
     },
     "execution_count": 9,
     "metadata": {},
     "output_type": "execute_result"
    }
   ],
   "source": [
    "#ffixed = lambda k: 1/((20+1/k)*np.e**(-k)-14)\n",
    "ffixed = lambda k: k/7*(10 + 1/(2*k))*np.e**(-k) - 1 /14\n",
    "x = np.linspace(-0.2,0.3,1000)\n",
    "plt.plot(x,x)\n",
    "plt.plot(x,ffixed(x))\n",
    "\n",
    "plt.show()\n",
    "fixedpoint(ffixed, 1)"
   ]
  },
  {
   "cell_type": "code",
   "execution_count": 10,
   "metadata": {
    "collapsed": true
   },
   "outputs": [],
   "source": [
    "def raphson(f, fderiv, x, **kwargs):\n",
    "    g = lambda x: x - f(x)/fderiv(x)\n",
    "    return fixedpoint(g, x, **kwargs)\n",
    "    "
   ]
  },
  {
   "cell_type": "code",
   "execution_count": 11,
   "metadata": {
    "collapsed": false
   },
   "outputs": [
    {
     "name": "stdout",
     "output_type": "stream",
     "text": [
      "k =  0.29670305321499624\n",
      "Iterations =  8\n",
      "k =  -1.3324871197364343\n",
      "Iterations =  5\n"
     ]
    },
    {
     "data": {
      "text/plain": [
       "(-1.3324871197364343, 5)"
      ]
     },
     "execution_count": 11,
     "metadata": {},
     "output_type": "execute_result"
    }
   ],
   "source": [
    "ffixed = lambda k: k/7*(10 + 1/(2*k))*np.e**(-k) - 1 /14 - k\n",
    "fderiv = lambda k: 10/7*np.e**-k-(10*k/7+1/14)*np.e**-k - 1\n",
    "x, iter = raphson(ffixed, fderiv, 5)\n",
    "time_of_death = lambda t: 22 - 37 + 0.5*t  - 1/(2*x)+(10+1/(2*x))*np.e**(-x*t)\n",
    "time_of_death_deriv = lambda t: 0.5 + -x*(10+1/(2*x))*np.e**(-x*t)\n",
    "raphson(time_of_death, time_of_death_deriv, 0.5)\n"
   ]
  },
  {
   "cell_type": "code",
   "execution_count": 85,
   "metadata": {
    "collapsed": false
   },
   "outputs": [
    {
     "name": "stdout",
     "output_type": "stream",
     "text": [
      "Bisection\n",
      "Deathtimer =  1 h  19 m  56 s\n",
      "Derivative of time of death  -3.648222296622559\n"
     ]
    },
    {
     "data": {
      "image/png": "[encoded data removed]",
      "text/plain": [
       "<matplotlib.figure.Figure at 0x7f74536afd68>"
      ]
     },
     "metadata": {},
     "output_type": "display_data"
    }
   ],
   "source": [
    "print(\"Bisection\")\n",
    "bisec_res, bisec_err, bisec_c, bisec_iters, bisec_err_ls = bisection(time_of_death, -10, 5)\n",
    "print(\"Deathtimer = \", int(np.abs(bisec_c)//1), \"h \", int(np.abs(bisec_c)%1*60), \"m \", int(np.abs(bisec_c)%1*60%1*60), \"s\")\n",
    "#print(\"Fixed Point\")\n",
    "#time_of_death_fixed = lambda t:  22 - 37 + 0.5*t  - 1/(2*x)+(10+1/(2*x))*np.e**(-x*t) + t\n",
    "time_of_death_fixed = lambda t: np.log(1+(5-0.5*t)/(10+1/(2*x)))/-x\n",
    "\n",
    "\n",
    "bisec_actual_err = np.abs((bisec_c - bisec_err_ls)/bisec_c)\n",
    "bisec_conv =  [bisec_actual_err[i]/bisec_actual_err[i-1] for i in range(1, len(bisec_err_ls))]\n",
    "z = np.linspace(0, len(bisec_conv)-1, len(bisec_conv))\n",
    "#print(bisec_conv)\n",
    "#print(np.vstack(np.array(bisec_conv)))\n",
    "plt.plot(range(0,len(bisec_conv)), bisec_conv, '.')\n",
    "#a_matr = np.vstack([np.array(z),np.ones(len(z))]).T\n",
    "\n",
    "#print(np.linalg.lstsq(a_matr, bisec_conv))\n",
    "#print(\"A size \", len(a_matr), \" bisec_conv \", len(bisec_conv), \" zeta \", len(z))\n",
    "#plt.plot(np.linalg.lstsq(a_matr, bisec_conv))\n",
    "plt.ylim(0, 1)\n",
    "#plt.plot(z,(lambda z: time_of_death_deriv(z)+1)(z))\n",
    "print(\"Derivative of time of death \" ,(lambda z: time_of_death_deriv(z)+1)(bisec_c))\n",
    "plt.show()"
   ]
  },
  {
   "cell_type": "code",
   "execution_count": 88,
   "metadata": {
    "collapsed": false
   },
   "outputs": [
    {
     "name": "stdout",
     "output_type": "stream",
     "text": [
      "k =  -1.33248711974\n",
      "Iterations =  13\n",
      "-1.33248711974\n",
      "Deathtimer =  1 h  19 m  56 s\n",
      "[-1.09798156 -1.30963443 -1.33026691 -1.33227148 -1.33246618 -1.33248509\n",
      " -1.33248692 -1.3324871  -1.33248712 -1.33248712 -1.33248712 -1.33248712\n",
      " -1.33248712]\n"
     ]
    },
    {
     "data": {
      "image/png": "[encoded data removed]",
      "text/plain": [
       "<matplotlib.figure.Figure at 0x7f74536d74a8>"
      ]
     },
     "metadata": {},
     "output_type": "display_data"
    }
   ],
   "source": [
    "fixed_x, fixed_res, fixed_iters, fixed_err_ls = fixedpoint(time_of_death_fixed, 1)\n",
    "fixed_actual_err = np.abs((fixed_x - fixed_err_ls)/fixed_x)\n",
    "fixed_conv =  [fixed_actual_err[i]/fixed_actual_err[i-1] for i in range(1, len(fixed_err_ls))]\n",
    "z = np.linspace(0, len(fixed_conv)-1, len(fixed_conv))\n",
    "print(fixed_x)\n",
    "print(\"Deathtimer = \", int(np.abs(fixed_x)//1), \"h \", int(np.abs(fixed_x)%1*60), \"m \", int(np.abs(fixed_x)%1*60%1*60), \"s\")\n",
    "print(fixed_err_ls)\n",
    "\n",
    "plt.plot(range(0,len(fixed_conv)), fixed_conv, '.')\n",
    "plt.ylim(0, 1)\n",
    "plt.show()"
   ]
  },
  {
   "cell_type": "code",
   "execution_count": null,
   "metadata": {
    "collapsed": true
   },
   "outputs": [],
   "source": []
  }
 ],
 "metadata": {
  "celltoolbar": "Slideshow",
  "kernelspec": {
   "display_name": "Python 3",
   "language": "python",
   "name": "python3"
  },
  "language_info": {
   "codemirror_mode": {
    "name": "ipython",
    "version": 3
   },
   "file_extension": ".py",
   "mimetype": "text/x-python",
   "name": "python",
   "nbconvert_exporter": "python",
   "pygments_lexer": "ipython3",
   "version": "3.4.3"
  }
 },
 "nbformat": 4,
 "nbformat_minor": 0
}
