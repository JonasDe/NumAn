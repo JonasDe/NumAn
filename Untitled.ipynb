{
 "cells": [
  {
   "cell_type": "code",

   "execution_count": 23,
   "metadata": {
    "collapsed": false
   },
   "outputs": [],
   "source": [
    "%matplotlib inline\n",
    "import numpy as np\n",
    "import matplotlib.pyplot as plt\n",
    "from IPython.display import display, Math, Latex\n"
   ]
  },
  {
   "cell_type": "markdown",
   "metadata": {},
   "source": [
    "# Task 1\n",
    "$$ T_{office} = 22 + 0.5t $$\n",
    "$$ \\frac{dT}{dt} + kT(t) = k(T_{office}) $$\n",
    "$$ (e^{kt}  T(t))'  = e^{kt}k(T_{office})$$\n",
    "$$ e^{kt}T(t) = \\int e^{kt}k(22 + 0.5t) dt $$\n",
    "$$ e^{kt}T(t) = 22e^{kt} + \\frac{1}{2}te^{kt}- \\frac{1}{2k} e^{kt} + C $$ \n",
    "$$ T(t) = 22 + \\frac{1}{2}t - \\frac{1}{2k} + Ce^{-kt} $$"
   ]
  },
  {
   "cell_type": "code",
   "execution_count": 80,
   "metadata": {
    "collapsed": false
   },
   "outputs": [],
   "source": [
    "def bisectionMethod(function,a, b, nMax, tol=1e-12):\n",
    "    n = 0\n",
    "    while (b-a)/2 > tol and n < nMax:\n",
    "        n+=1\n",
    "        c = (a+b)/2\n",
    "        if function(c) *function(a) > 0 :\n",
    "            a=c;\n",
    "        elif function(c) * function(b) > 0 :\n",
    "            b=c;\n",
    "        else: \n",
    "            break\n",
    "        \n",
    "    \n",
    "    possible_err = (b-a)/2\n",
    "    res = function(c)\n",
    "    print(\"Residual: \" + res)\n",
    "    print(\"Possible error: \" + possible_err)\n",
    "    print(\"Value of k: \" + c)\n",
    "\n"
   ]
  },
  {
   "cell_type": "code",
   "execution_count": 62,
   "metadata": {
    "collapsed": false
   },
   "outputs": [],
   "source": [
    "f = lambda k:7+1/(2*k) -(10+1/(2*k))*np.e**-k"
   ]
  },
  {
   "cell_type": "code",
   "execution_count": 88,
   "metadata": {
    "collapsed": false,
    "scrolled": true
   },
   "outputs": [
    {
     "name": "stdout",
     "output_type": "stream",
     "text": [
      "1.0487610779819079e-11\n",
      "8.526512829121202e-13\n",
      "0.2967030532164472\n"
     ]
    },
    {
     "data": {
      "text/plain": [
       "[<matplotlib.lines.Line2D at 0x7f8460389208>]"
      ]
     },
     "execution_count": 88,
     "metadata": {},
     "output_type": "execute_result"
    },
    {
     "data": {
      "image/png": "[encoded data removed]",
      "text/plain": [
       "<matplotlib.figure.Figure at 0x7f84606f3550>"
      ]
     },
     "metadata": {},
     "output_type": "display_data"
    }
   ],
   "source": [
    "fansw = bisectionMethod(f, -5, 10, 100)\n",
    "\n",
    "\n",
    "xs = np.linspace(-10,10, 100)\n",
    "plt.plot(xs,f(xs))"
   ]
  },
  {
   "cell_type": "code",
   "execution_count": 47,
   "metadata": {
    "collapsed": false
   },
   "outputs": [],
   "source": [
    "def bisection(f, a, b, nmax=100, tol=1e-12):\n",
    "    while (b-a)/2 > tol and nmax > 0 :\n",
    "        c = (a+b)/2\n",
    "        if f(c)*f(a) > 0 :\n",
    "            a = c\n",
    "        elif f(c)*f(b) > 0:\n",
    "            b = c\n",
    "        else: break\n",
    "        nmax -= 1\n",
    "    \n",
    "    err = (b-a)/2\n",
    "    res = f(c)\n",
    "    print(err)\n",
    "    print(res)\n",
    "    print(c)\n",
    "    print(100-nmax)\n",
    "\n"
   ]
  },
  {
   "cell_type": "code",
   "execution_count": 52,
   "metadata": {
    "collapsed": false
   },
   "outputs": [
    {
     "data": {
      "image/png": "[encoded data removed]",
      "text/plain": [
       "<matplotlib.figure.Figure at 0x7ff36dd10518>"
      ]
     },
     "metadata": {},
     "output_type": "display_data"
    },
    {
     "name": "stdout",
     "output_type": "stream",
     "text": [
      "8.526512829121202e-13\n",
      "1.0487610779819079e-11\n",
      "0.2967030532164472\n",
      "57\n"
     ]
    }
   ],
   "source": [
    "f = lambda k: 7+1/(2*k)-(10+1/(2*k))*np.e**(-k)\n",
    "x = np.linspace(-3,3,1000)\n",
    "plt.plot(x, f(x))\n",
    "plt.ylabel(\"f(k)\")\n",
    "plt.xlabel(\"k\")\n",
    "\n",
    "plt.show()\n",
    "bisection(f, -5, 10)"
   ]
  }
 ],
 "metadata": {
  "celltoolbar": "Slideshow",
  "kernelspec": {
   "display_name": "Python 3",
   "language": "python",
   "name": "python3"
  },
  "language_info": {
   "codemirror_mode": {
    "name": "ipython",
    "version": 3
   },
   "file_extension": ".py",
   "mimetype": "text/x-python",
   "name": "python",
   "nbconvert_exporter": "python",
   "pygments_lexer": "ipython3",
   "version": "3.5.1"
  }
 },
 "nbformat": 4,
 "nbformat_minor": 0
}
