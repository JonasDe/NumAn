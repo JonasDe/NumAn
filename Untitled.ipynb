{
 "cells": [
  {
   "cell_type": "code",
   "execution_count": 2,
   "metadata": {
    "collapsed": false
   },
   "outputs": [],
   "source": [
    "%matplotlib inline\n",
    "import numpy as np\n",
    "import matplotlib.pyplot as plt\n",
    "from IPython.display import display, Math, Latex\n"
   ]
  },
  {
   "cell_type": "markdown",
   "metadata": {},
   "source": [
    "# Task 1\n",
    "$$ T_{office} = 22 + 0.5t $$\n",
    "$$ \\frac{dT}{dt} + kT(t) = k(T_{office}) $$\n",
    "$$ (e^{kt}  T(t))'  = e^{kt}k(T_{office})$$\n",
    "$$ e^{kt}T(t) = \\int e^{kt}k(22 + 0.5t) dt $$\n",
    "$$ e^{kt}T(t) = 22e^{kt} + \\frac{1}{2}te^{kt}- \\frac{1}{2k} e^{kt} + C $$ \n",
    "$$ T(t) = 22 + \\frac{1}{2}t - \\frac{1}{2k} + Ce^{-kt} $$"
   ]
  },
  {
   "cell_type": "code",
   "execution_count": 32,
   "metadata": {
    "collapsed": false
   },
   "outputs": [],
   "source": [
    "def bisectionMethod(function,a, b, nMax, tol=1e-12):\n",
    "    n = 0\n",
    "    while (b-a)/2 > tol and n < nMax:\n",
    "        n+=1\n",
    "        c = (a+b)/2\n",
    "        if function(c) *function(a) > 0 :\n",
    "            a=c;\n",
    "        elif function(c) * function(b) > 0 :\n",
    "            b=c;\n",
    "        else: \n",
    "            break\n",
    "        \n",
    "    \n",
    "    possible_err = (b-a)/2\n",
    "    res = function(c)\n",
    "    print(\"Residual: \" + res)\n",
    "    print(\"Possible error: \" + possible_err)\n",
    "    print(\"Value of k: \" + c)\n",
    "\n"
   ]
  },
  {
   "cell_type": "code",
   "execution_count": 34,
   "metadata": {
    "collapsed": false
   },
   "outputs": [],
   "source": [
    "f = lambda k:7+1/(2*k) -(10+1/(2*k))*np.e**-k"
   ]
  },
  {
   "cell_type": "code",
   "execution_count": 35,
   "metadata": {
    "collapsed": false,
    "scrolled": true
   },
   "outputs": [
    {
     "ename": "TypeError",
     "evalue": "Can't convert 'float' object to str implicitly",
     "output_type": "error",
     "traceback": [
      "\u001b[1;31m---------------------------------------------------------------------------\u001b[0m",
      "\u001b[1;31mTypeError\u001b[0m                                 Traceback (most recent call last)",
      "\u001b[1;32m<ipython-input-35-af3d0031067c>\u001b[0m in \u001b[0;36m<module>\u001b[1;34m()\u001b[0m\n\u001b[1;32m----> 1\u001b[1;33m \u001b[0mfansw\u001b[0m \u001b[1;33m=\u001b[0m \u001b[0mbisectionMethod\u001b[0m\u001b[1;33m(\u001b[0m\u001b[0mf\u001b[0m\u001b[1;33m,\u001b[0m \u001b[1;33m-\u001b[0m\u001b[1;36m5\u001b[0m\u001b[1;33m,\u001b[0m \u001b[1;36m10\u001b[0m\u001b[1;33m,\u001b[0m \u001b[1;36m100\u001b[0m\u001b[1;33m)\u001b[0m\u001b[1;33m\u001b[0m\u001b[0m\n\u001b[0m\u001b[0;32m      2\u001b[0m \u001b[1;33m\u001b[0m\u001b[0m\n\u001b[0;32m      3\u001b[0m \u001b[1;33m\u001b[0m\u001b[0m\n\u001b[0;32m      4\u001b[0m \u001b[0mxs\u001b[0m \u001b[1;33m=\u001b[0m \u001b[0mnp\u001b[0m\u001b[1;33m.\u001b[0m\u001b[0mlinspace\u001b[0m\u001b[1;33m(\u001b[0m\u001b[1;33m-\u001b[0m\u001b[1;36m10\u001b[0m\u001b[1;33m,\u001b[0m\u001b[1;36m10\u001b[0m\u001b[1;33m,\u001b[0m \u001b[1;36m100\u001b[0m\u001b[1;33m)\u001b[0m\u001b[1;33m\u001b[0m\u001b[0m\n\u001b[0;32m      5\u001b[0m \u001b[0mplt\u001b[0m\u001b[1;33m.\u001b[0m\u001b[0mplot\u001b[0m\u001b[1;33m(\u001b[0m\u001b[0mxs\u001b[0m\u001b[1;33m,\u001b[0m\u001b[0mf\u001b[0m\u001b[1;33m(\u001b[0m\u001b[0mxs\u001b[0m\u001b[1;33m)\u001b[0m\u001b[1;33m)\u001b[0m\u001b[1;33m\u001b[0m\u001b[0m\n",
      "\u001b[1;32m<ipython-input-32-c900a6a88437>\u001b[0m in \u001b[0;36mbisectionMethod\u001b[1;34m(function, a, b, nMax, tol)\u001b[0m\n\u001b[0;32m     14\u001b[0m     \u001b[0mpossible_err\u001b[0m \u001b[1;33m=\u001b[0m \u001b[1;33m(\u001b[0m\u001b[0mb\u001b[0m\u001b[1;33m-\u001b[0m\u001b[0ma\u001b[0m\u001b[1;33m)\u001b[0m\u001b[1;33m/\u001b[0m\u001b[1;36m2\u001b[0m\u001b[1;33m\u001b[0m\u001b[0m\n\u001b[0;32m     15\u001b[0m     \u001b[0mres\u001b[0m \u001b[1;33m=\u001b[0m \u001b[0mfunction\u001b[0m\u001b[1;33m(\u001b[0m\u001b[0mc\u001b[0m\u001b[1;33m)\u001b[0m\u001b[1;33m\u001b[0m\u001b[0m\n\u001b[1;32m---> 16\u001b[1;33m     \u001b[0mprint\u001b[0m\u001b[1;33m(\u001b[0m\u001b[1;34m\"Residual: \"\u001b[0m \u001b[1;33m+\u001b[0m \u001b[0mres\u001b[0m\u001b[1;33m)\u001b[0m\u001b[1;33m\u001b[0m\u001b[0m\n\u001b[0m\u001b[0;32m     17\u001b[0m     \u001b[0mprint\u001b[0m\u001b[1;33m(\u001b[0m\u001b[1;34m\"Possible error: \"\u001b[0m \u001b[1;33m+\u001b[0m \u001b[0mpossible_err\u001b[0m\u001b[1;33m)\u001b[0m\u001b[1;33m\u001b[0m\u001b[0m\n\u001b[0;32m     18\u001b[0m     \u001b[0mprint\u001b[0m\u001b[1;33m(\u001b[0m\u001b[1;34m\"Value of k: \"\u001b[0m \u001b[1;33m+\u001b[0m \u001b[0mc\u001b[0m\u001b[1;33m)\u001b[0m\u001b[1;33m\u001b[0m\u001b[0m\n",
      "\u001b[1;31mTypeError\u001b[0m: Can't convert 'float' object to str implicitly"
     ]
    }
   ],
   "source": [
    "fansw = bisectionMethod(f, -5, 10, 100)\n",
    "\n",
    "\n",
    "xs = np.linspace(-10,10, 100)\n",
    "plt.plot(xs,f(xs))"
   ]
  },
  {
   "cell_type": "code",
   "execution_count": 29,
   "metadata": {
    "collapsed": false
   },
   "outputs": [],
   "source": [
    "def bisection(f, a, b, nmax=100, tol=1e-12):\n",
    "    ls = []\n",
    "    while (b-a)/2 > tol and nmax > 0 :\n",
    "        prev = (b-a)/2\n",
    "        c = (a+b)/2\n",
    "        if f(c)*f(a) > 0 :\n",
    "            a = c\n",
    "        elif f(c)*f(b) > 0:\n",
    "            b = c\n",
    "        else: break\n",
    "        \n",
    "        ls.append(c)\n",
    "        nmax -= 1\n",
    "    \n",
    "    err = (b-a)/2\n",
    "    res = f(c)\n",
    "    return (res, err, c, 100-nmax, np.array(ls))\n",
    "    #added return, fix prints outside\n",
    "    print(err)\n",
    "    print(res)\n",
    "    print(c)\n",
    "    print(100-nmax)\n",
    "\n"
   ]
  },
  {
   "cell_type": "code",
   "execution_count": 52,
   "metadata": {
    "collapsed": false
   },
   "outputs": [
    {
     "data": {
      "image/png": "[encoded data removed]",
      "text/plain": [
       "<matplotlib.figure.Figure at 0x7ff36dd10518>"
      ]
     },
     "metadata": {},
     "output_type": "display_data"
    },
    {
     "name": "stdout",
     "output_type": "stream",
     "text": [
      "8.526512829121202e-13\n",
      "1.0487610779819079e-11\n",
      "0.2967030532164472\n",
      "57\n"
     ]
    }
   ],
   "source": [
    "f = lambda k: 7+1/(2*k)-(10+1/(2*k))*np.e**(-k)\n",
    "x = np.linspace(-3,3,1000)\n",
    "plt.plot(x, f(x))\n",
    "plt.ylabel(\"f(k)\")\n",
    "plt.xlabel(\"k\")\n",
    "\n",
    "plt.show()\n",
    "bisection(f, -5, 10)"
   ]
  },
  {
   "cell_type": "code",
   "execution_count": 6,
   "metadata": {
    "collapsed": false
   },
   "outputs": [],
   "source": [
    "def fixedpoint(f, x, nmax=100, tol=1e-12):\n",
    "    ls = []\n",
    "    while np.abs(f(x)-x) > tol and nmax > 0:\n",
    "        x = f(x)\n",
    "        nmax -= 1     \n",
    "        \n",
    "    print(\"k = \", x)\n",
    "    print(\"Iterations = \", 100 - nmax)\n",
    "    return (x, 100 - nmax)"
   ]
  },
  {
   "cell_type": "code",
   "execution_count": 4,
   "metadata": {
    "collapsed": false
   },
   "outputs": [
    {
     "data": {
      "image/png": "[encoded data removed]",
      "text/plain": [
       "<matplotlib.figure.Figure at 0x7f76e00a4c88>"
      ]
     },
     "metadata": {},
     "output_type": "display_data"
    },
    {
     "name": "stdout",
     "output_type": "stream",
     "text": [
      "0.29670305321729984\n",
      "68\n"
     ]
    }
   ],
   "source": [
    "#ffixed = lambda k: 1/((20+1/k)*np.e**(-k)-14)\n",
    "ffixed = lambda k: k/7*(10 + 1/(2*k))*np.e**(-k) - 1 /14\n",
    "x = np.linspace(-0.2,0.3,1000)\n",
    "plt.plot(x,x)\n",
    "plt.plot(x,ffixed(x))\n",
    "\n",
    "plt.show()\n",
    "fixedpoint(ffixed, 1)"
   ]
  },
  {
   "cell_type": "code",
   "execution_count": 8,
   "metadata": {
    "collapsed": true
   },
   "outputs": [],
   "source": [
    "def raphson(f, fderiv, x, **kwargs):\n",
    "    g = lambda x: x - f(x)/fderiv(x)\n",
    "    return fixedpoint(g, x, **kwargs)\n",
    "    "
   ]
  },
  {
   "cell_type": "code",
   "execution_count": 14,
   "metadata": {
    "collapsed": false
   },
   "outputs": [
    {
     "name": "stdout",
     "output_type": "stream",
     "text": [
      "k =  0.29670305321499624\n",
      "Iterations =  8\n",
      "k =  -1.3324871197364343\n",
      "Iterations =  5\n"
     ]
    },
    {
     "data": {
      "text/plain": [
       "(-1.3324871197364343, 5)"
      ]
     },
     "execution_count": 14,
     "metadata": {},
     "output_type": "execute_result"
    }
   ],
   "source": [
    "ffixed = lambda k: k/7*(10 + 1/(2*k))*np.e**(-k) - 1 /14 - k\n",
    "fderiv = lambda k: 10/7*np.e**-k-(10*k/7+1/14)*np.e**-k - 1\n",
    "x, iter = raphson(ffixed, fderiv, 5)\n",
    "time_of_death = lambda t: 22 - 37 + 0.5*t  - 1/(2*x)+(10+1/(2*x))*np.e**(-x*t)\n",
    "time_of_death_deriv = lambda t: 0.5 + -x*(10+1/(2*x))*np.e**(-x*t)\n",
    "raphson(time_of_death, time_of_death_deriv, 0.5)\n"
   ]
  },
  {
   "cell_type": "code",
   "execution_count": 45,
   "metadata": {
    "collapsed": false
   },
   "outputs": [
    {
     "name": "stdout",
     "output_type": "stream",
     "text": [
      "Bisection\n",
      "Deathtimer =  99.99999999999844\n",
      "Fixed Point\n",
      "k =  3.719510971736104e+18\n",
      "Iterations =  100\n",
      "[ 45.          72.5         86.25        93.125       96.5625      98.28125\n",
      "  99.140625    99.5703125   99.78515625  99.89257812  99.94628906\n",
      "  99.97314453  99.98657227  99.99328613  99.99664307  99.99832153\n",
      "  99.99916077  99.99958038  99.99979019  99.9998951   99.99994755\n",
      "  99.99997377  99.99998689  99.99999344  99.99999672  99.99999836\n",
      "  99.99999918  99.99999959  99.9999998   99.9999999   99.99999995\n",
      "  99.99999997  99.99999999  99.99999999 100.         100.         100.         100.\n",
      " 100.         100.         100.         100.         100.         100.         100.\n",
      " 100.        ]\n",
      "[0.49999999999998579, 0.49999999999997158, 0.49999999999994316, 0.49999999999988631, 0.49999999999977263, 0.49999999999954525, 0.49999999999909051, 0.49999999999818101, 0.49999999999636202, 0.49999999999272404, 0.49999999998544808, 0.49999999997089617, 0.49999999994179234, 0.49999999988358468, 0.49999999976716936, 0.49999999953433871, 0.49999999906867743, 0.49999999813735485, 0.49999999627470965, 0.49999999254941929, 0.49999998509883836, 0.49999997019767584, 0.49999994039534812, 0.49999988079068203, 0.49999976158130721, 0.49999952316238705, 0.4999990463238646, 0.49999809264409117, 0.49999618527363032, 0.49999237048905165, 0.499984740745262, 0.49996948055911616, 0.4999389573922598, 0.49987789987789988, 0.49975574010747437, 0.49951124144672532, 0.49902152641878667, 0.49803921568627452, 0.49606299212598426, 0.49206349206349204, 0.4838709677419355, 0.46666666666666667, 0.42857142857142855, 0.33333333333333331, 0.0]\n",
      "Derivative of time of death  -3.644424639339933\n"
     ]
    },
    {
     "data": {
      "image/png": "[encoded data removed]",
      "text/plain": [
       "<matplotlib.figure.Figure at 0x7faf24dd16d8>"
      ]
     },
     "metadata": {},
     "output_type": "display_data"
    }
   ],
   "source": [
    "print(\"Bisection\")\n",
    "bisec_res, bisec_err, bisec_c, bisec_iters, bisec_err_ls = bisection(time_of_death, -10, 100)\n",
    "print(\"Deathtimer = \", bisec_c)\n",
    "print(\"Fixed Point\")\n",
    "time_of_death_fixed = lambda t:  22 - 37 + 0.5*t  - 1/(2*x)+(10+1/(2*x))*np.e**(-x*t) + t\n",
    "fixedpoint(time_of_death_fixed, 1)\n",
    "\n",
    "z = np.linspace(-10, 10, 1000)\n",
    "plt.plot(bisec_err)\n",
    "print(bisec_err_ls)\n",
    "bisec_actual_err = np.abs(bisec_c - bisec_err_ls)\n",
    "bisec_conv =  [bisec_actual_err[i]/bisec_actual_err[i-1] for i in range(1, len(bisec_err_ls))]\n",
    "print(bisec_conv)\n",
    "plt.plot(bisec_conv)\n",
    "#plt.plot(z,(lambda z: time_of_death_deriv(z)+1)(z))\n",
    "print(\"Derivative of time of death \" ,(lambda z: time_of_death_deriv(z)+1)(-1.33))\n",
    "plt.show()"
   ]
  }
 ],
 "metadata": {
  "celltoolbar": "Slideshow",
  "kernelspec": {
   "display_name": "Python 3",
   "language": "python",
   "name": "python3"
  },
  "language_info": {
   "codemirror_mode": {
    "name": "ipython",
    "version": 3
   },
   "file_extension": ".py",
   "mimetype": "text/x-python",
   "name": "python",
   "nbconvert_exporter": "python",
   "pygments_lexer": "ipython3",
   "version": "3.4.3"
  }
 },
 "nbformat": 4,
 "nbformat_minor": 0
}
